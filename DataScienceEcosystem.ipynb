{
  "nbformat": 4,
  "nbformat_minor": 0,
  "metadata": {
    "colab": {
      "provenance": []
    },
    "kernelspec": {
      "name": "python3",
      "display_name": "Python 3"
    },
    "language_info": {
      "name": "python"
    }
  },
  "cells": [
    {
      "cell_type": "markdown",
      "source": [
        "<h1>Data Science Tools and Ecosystem</h1>"
      ],
      "metadata": {
        "id": "3f1PHpdKuuF5"
      }
    },
    {
      "cell_type": "markdown",
      "source": [
        "In this notebook, Data Science Tools and Ecosystem are summarized"
      ],
      "metadata": {
        "id": "6zt8pUU3up-P"
      }
    },
    {
      "cell_type": "markdown",
      "source": [
        "Some of the popular languages that Data Science use are:\n",
        "<ol><li>Python</li><li>R</li><li>Julia</li><li>Java</li></ol>"
      ],
      "metadata": {
        "id": "37OdGLdhukBd"
      }
    },
    {
      "cell_type": "markdown",
      "source": [
        "Some of the commonly used libraries used by Data Science include:\n",
        "<ol><li>Pandas</li><li>Matplot</li><li>Numpy</li><li>Pytorch</li></ol>"
      ],
      "metadata": {
        "id": "c4i-qk6BuSDy"
      }
    },
    {
      "cell_type": "markdown",
      "source": [
        "<table><tr><td><h1>Data Science Tools</h1></td></tr><tr><td>JupyterLab</td></tr><tr><td>JupyterLite</td></tr><tr><td>Watson Studio</td></tr></table>\n"
      ],
      "metadata": {
        "id": "Im3F7sMLuJ4I"
      }
    },
    {
      "cell_type": "markdown",
      "source": [
        "<h3>Below are a few examples of evaluating arithmetic expressions in Python</h3>"
      ],
      "metadata": {
        "id": "X1nMaXbatRYe"
      }
    },
    {
      "cell_type": "markdown",
      "source": [
        "<i>This is simple arithmetic expression to multiply then add integers</i>"
      ],
      "metadata": {
        "id": "JfwI6G6WvEXo"
      }
    },
    {
      "cell_type": "code",
      "source": [
        "(3*4)+5"
      ],
      "metadata": {
        "colab": {
          "base_uri": "https://localhost:8080/"
        },
        "id": "o1PUlWl3vMp0",
        "outputId": "056bd56a-a4a4-4459-e57e-8e7069d1b99c"
      },
      "execution_count": 2,
      "outputs": [
        {
          "output_type": "execute_result",
          "data": {
            "text/plain": [
              "17"
            ]
          },
          "metadata": {},
          "execution_count": 2
        }
      ]
    },
    {
      "cell_type": "markdown",
      "source": [
        "\n",
        "<i>This will convert 200 minutes to hours by dividing by 60</i>\n"
      ],
      "metadata": {
        "id": "vArnf7gcwr2N"
      }
    },
    {
      "cell_type": "code",
      "source": [
        "200/60"
      ],
      "metadata": {
        "colab": {
          "base_uri": "https://localhost:8080/"
        },
        "id": "TRPmudNDxOXM",
        "outputId": "195e1eb1-22ba-47aa-ea5f-de378c9b6fb5"
      },
      "execution_count": 3,
      "outputs": [
        {
          "output_type": "execute_result",
          "data": {
            "text/plain": [
              "3.3333333333333335"
            ]
          },
          "metadata": {},
          "execution_count": 3
        }
      ]
    },
    {
      "cell_type": "markdown",
      "source": [
        "\n",
        "<b>Objectives:</b>\n",
        "<ul><li>List popular languages for Data Science</li>\n",
        "<li>List common libraries for Data Science</li>\n",
        "<li>Use HTML labels for markdowns format</li>\n",
        "<li>Practice basic arithmetic operations in Python</li></ul>\n"
      ],
      "metadata": {
        "id": "bsDUMnwBxhFX"
      }
    },
    {
      "cell_type": "markdown",
      "source": [
        "<h2>Author:</h2> Diana Marcela Jimenez Rojas"
      ],
      "metadata": {
        "id": "0znmF7jM_1Be"
      }
    },
    {
      "cell_type": "markdown",
      "source": [],
      "metadata": {
        "id": "rh9vSiR0ANEw"
      }
    }
  ]
}